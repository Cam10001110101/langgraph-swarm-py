{
 "cells": [
  {
   "cell_type": "code",
   "execution_count": 4,
   "metadata": {
    "vscode": {
     "languageId": "shellscript"
    }
   },
   "outputs": [
    {
     "name": "stdout",
     "output_type": "stream",
     "text": [
      "\u001b[34m==>\u001b[0m \u001b[1mDownloading https://formulae.brew.sh/api/formula.jws.json\u001b[0m\n",
      "\u001b[34m==>\u001b[0m \u001b[1mDownloading https://formulae.brew.sh/api/cask.jws.json\u001b[0m\n",
      "\u001b[33mWarning:\u001b[0m No available formula with the name \"langchain-mcp-adapters\".\n",
      "\u001b[34m==>\u001b[0m \u001b[1mSearching for similarly named formulae and casks...\u001b[0m\n",
      "\u001b[31mError:\u001b[0m No formulae or casks found for langchain-mcp-adapters.\n"
     ]
    }
   ],
   "source": [
    "! brew install langchain-mcp-adapters langgraph \"langchain[anthropic]\" \"langchain[openai]\" langgraph-swarm httpx markdownify"
   ]
  },
  {
   "cell_type": "markdown",
   "metadata": {},
   "source": [
    "## Swarm Researcher Example "
   ]
  },
  {
   "cell_type": "code",
   "execution_count": 3,
   "metadata": {},
   "outputs": [
    {
     "ename": "ModuleNotFoundError",
     "evalue": "No module named 'markdownify'",
     "output_type": "error",
     "traceback": [
      "\u001b[31m---------------------------------------------------------------------------\u001b[39m",
      "\u001b[31mModuleNotFoundError\u001b[39m                       Traceback (most recent call last)",
      "\u001b[36mCell\u001b[39m\u001b[36m \u001b[39m\u001b[32mIn[3]\u001b[39m\u001b[32m, line 2\u001b[39m\n\u001b[32m      1\u001b[39m \u001b[38;5;28;01mfrom\u001b[39;00m\u001b[38;5;250m \u001b[39m\u001b[34;01mprompts\u001b[39;00m\u001b[38;5;250m \u001b[39m\u001b[38;5;28;01mimport\u001b[39;00m planner_prompt, researcher_prompt\n\u001b[32m----> \u001b[39m\u001b[32m2\u001b[39m \u001b[38;5;28;01mfrom\u001b[39;00m\u001b[38;5;250m \u001b[39m\u001b[34;01mutils\u001b[39;00m\u001b[38;5;250m \u001b[39m\u001b[38;5;28;01mimport\u001b[39;00m fetch_doc, print_stream\n",
      "\u001b[36mFile \u001b[39m\u001b[32m~/GITHUB/langgraph-swarm-py/examples/research/src/agent/utils.py:2\u001b[39m\n\u001b[32m      1\u001b[39m \u001b[38;5;28;01mimport\u001b[39;00m\u001b[38;5;250m \u001b[39m\u001b[34;01mhttpx\u001b[39;00m\n\u001b[32m----> \u001b[39m\u001b[32m2\u001b[39m \u001b[38;5;28;01mfrom\u001b[39;00m\u001b[38;5;250m \u001b[39m\u001b[34;01mmarkdownify\u001b[39;00m\u001b[38;5;250m \u001b[39m\u001b[38;5;28;01mimport\u001b[39;00m markdownify\n\u001b[32m      4\u001b[39m httpx_client = httpx.Client(follow_redirects=\u001b[38;5;28;01mFalse\u001b[39;00m, timeout=\u001b[32m10\u001b[39m)\n\u001b[32m      7\u001b[39m \u001b[38;5;28;01mdef\u001b[39;00m\u001b[38;5;250m \u001b[39m\u001b[34mprint_stream\u001b[39m(stream):\n",
      "\u001b[31mModuleNotFoundError\u001b[39m: No module named 'markdownify'"
     ]
    }
   ],
   "source": [
    "from prompts import planner_prompt, researcher_prompt\n",
    "from utils import fetch_doc, print_stream"
   ]
  },
  {
   "cell_type": "code",
   "execution_count": null,
   "metadata": {},
   "outputs": [],
   "source": [
    "# Imports\n",
    "from langchain.chat_models import init_chat_model\n",
    "from langgraph.prebuilt import create_react_agent\n",
    "from langgraph_swarm import create_handoff_tool, create_swarm\n",
    "\n",
    "# Chat model (OpenAI)\n",
    "model = init_chat_model(model=\"gpt-4o\", model_provider=\"openai\")\n",
    "\n",
    "# Reasoning model (Anthropic)\n",
    "model = init_chat_model(\n",
    "    model=\"claude-3-7-sonnet-latest\",\n",
    "    model_provider=\"anthropic\",\n",
    "    max_tokens=20_000,\n",
    "    thinking={\"type\": \"enabled\", \"budget_tokens\": 16_000},\n",
    ")\n",
    "\n",
    "# Handoff tools\n",
    "transfer_to_planner_agent = create_handoff_tool(\n",
    "    agent_name=\"planner_agent\",\n",
    "    description=\"Transfer the user to the planner_agent for clarifying questions related to the user's request.\",\n",
    ")\n",
    "transfer_to_researcher_agent = create_handoff_tool(\n",
    "    agent_name=\"researcher_agent\",\n",
    "    description=\"Transfer the user to the researcher_agent to perform research and implement the solution to the user's request.\",\n",
    ")\n",
    "\n",
    "# LLMS.txt\n",
    "llms_txt = \"LangGraph:https://langchain-ai.github.io/langgraph/llms.txt\"\n",
    "num_urls = 3\n",
    "planner_prompt_formatted = planner_prompt.format(llms_txt=llms_txt, num_urls=num_urls)"
   ]
  },
  {
   "cell_type": "code",
   "execution_count": null,
   "metadata": {},
   "outputs": [],
   "source": [
    "from langgraph.checkpoint.memory import InMemorySaver\n",
    "\n",
    "# Planner agent\n",
    "planner_agent = create_react_agent(\n",
    "    model,\n",
    "    prompt=planner_prompt_formatted,\n",
    "    tools=[fetch_doc, transfer_to_researcher_agent],\n",
    "    name=\"planner_agent\",\n",
    ")\n",
    "\n",
    "# Researcher agent\n",
    "researcher_agent = create_react_agent(\n",
    "    model,\n",
    "    prompt=researcher_prompt,\n",
    "    tools=[fetch_doc, transfer_to_planner_agent],\n",
    "    name=\"researcher_agent\",\n",
    ")\n",
    "\n",
    "# Swarm\n",
    "checkpointer = InMemorySaver()\n",
    "agent_swarm = create_swarm(\n",
    "    [planner_agent, researcher_agent], default_active_agent=\"planner_agent\"\n",
    ")\n",
    "app = agent_swarm.compile(checkpointer=checkpointer)\n",
    "\n",
    "# Input\n",
    "request = \"Create a LangGraph application that is a prompt chain: it takes a topic from a user, generates a joke, and checks if the joke has a punchline.\"\n",
    "config = {\"configurable\": {\"thread_id\": \"1\"}}\n",
    "print_stream(\n",
    "    app.stream(\n",
    "        {\"messages\": [{\"role\": \"user\", \"content\": request}]}, config, subgraphs=True\n",
    "    )\n",
    ")"
   ]
  },
  {
   "cell_type": "code",
   "execution_count": null,
   "metadata": {},
   "outputs": [],
   "source": [
    "request = \"1. User will pass a topic. 2. Format the joke with 'setup:' and 'punchline:' 3. Just  py script. No UI or deployment. 4. Use OpenAI. 5. Format can be a string.\"\n",
    "print_stream(\n",
    "    app.stream(\n",
    "        {\"messages\": [{\"role\": \"user\", \"content\": request}]}, config, subgraphs=True\n",
    "    )\n",
    ")"
   ]
  },
  {
   "cell_type": "markdown",
   "metadata": {},
   "source": [
    "### Traces \n",
    "\n",
    "Example planning trace - \n",
    "\n",
    "https://smith.langchain.com/public/7a428dfc-b8b8-4e28-bc05-9508a848082c/r\n",
    "\n",
    "Example researcher trace - \n",
    "\n",
    "https://smith.langchain.com/public/1c9d0e28-56c4-4241-922b-afd614464edd/r\n",
    "\n",
    "### Test Code "
   ]
  },
  {
   "cell_type": "code",
   "execution_count": null,
   "metadata": {},
   "outputs": [],
   "source": [
    "from langchain_core.messages import HumanMessage\n",
    "from langchain_openai import ChatOpenAI\n",
    "from langgraph.graph import END, START, StateGraph\n",
    "from typing_extensions import TypedDict\n",
    "\n",
    "\n",
    "# Define state schema for our joke generator\n",
    "class State(TypedDict):\n",
    "    topic: str  # The topic provided by the user\n",
    "    joke: str  # The generated joke\n",
    "    has_punchline: bool  # Whether the joke has a punchline\n",
    "\n",
    "\n",
    "# Create the nodes for our graph\n",
    "def generate_joke(state: State):\n",
    "    \"\"\"Generate a joke with a punchline based on the provided topic.\"\"\"\n",
    "    # Initialize the LLM\n",
    "    llm = ChatOpenAI(model=\"gpt-3.5-turbo\")\n",
    "\n",
    "    # Create a prompt that explicitly asks for a setup followed by a punchline\n",
    "    prompt = f\"Create a joke about {state['topic']}. Format it with a setup followed by 'punchline:' and then the actual punchline.\"\n",
    "\n",
    "    # Generate the joke\n",
    "    response = llm.invoke([HumanMessage(content=prompt)])\n",
    "\n",
    "    # Return the joke\n",
    "    return {\"joke\": response.content}\n",
    "\n",
    "\n",
    "def check_punchline(state: State):\n",
    "    \"\"\"Check if the joke contains the word 'punchline'.\"\"\"\n",
    "    # Check if the joke contains the word 'punchline'\n",
    "    if \"punchline\" in state[\"joke\"].lower():\n",
    "        return {\"has_punchline\": True}\n",
    "    else:\n",
    "        return {\"has_punchline\": False}\n",
    "\n",
    "\n",
    "# Define conditional edge decision function\n",
    "def decide_next_step(state: State):\n",
    "    \"\"\"Decide whether to end the process.\"\"\"\n",
    "    if state[\"has_punchline\"]:\n",
    "        return \"end\"\n",
    "    else:\n",
    "        # If we were to handle cases without punchlines, we'd route to a fix node\n",
    "        # But per requirements, we'll just end without feedback\n",
    "        return \"end\"\n",
    "\n",
    "\n",
    "# Build the graph\n",
    "def build_graph():\n",
    "    # Create a graph with the defined state schema\n",
    "    graph = StateGraph(State)\n",
    "\n",
    "    # Add nodes\n",
    "    graph.add_node(\"generate_joke\", generate_joke)\n",
    "    graph.add_node(\"check_punchline\", check_punchline)\n",
    "\n",
    "    # Add edges\n",
    "    graph.add_edge(START, \"generate_joke\")\n",
    "    graph.add_edge(\"generate_joke\", \"check_punchline\")\n",
    "    graph.add_conditional_edges(\"check_punchline\", decide_next_step, {\"end\": END})\n",
    "\n",
    "    # Compile the graph\n",
    "    return graph.compile()\n",
    "\n",
    "\n",
    "joke_graph = build_graph()\n",
    "\n",
    "# Invoke the graph with the provided topic\n",
    "result = joke_graph.invoke({\"topic\": \"cats\"})"
   ]
  },
  {
   "cell_type": "code",
   "execution_count": null,
   "metadata": {},
   "outputs": [],
   "source": [
    "result"
   ]
  },
  {
   "cell_type": "code",
   "execution_count": null,
   "metadata": {},
   "outputs": [],
   "source": []
  },
  {
   "cell_type": "code",
   "execution_count": null,
   "metadata": {},
   "outputs": [],
   "source": []
  }
 ],
 "metadata": {
  "kernelspec": {
   "display_name": "Python 3 (ipykernel)",
   "language": "python",
   "name": "python3"
  },
  "language_info": {
   "codemirror_mode": {
    "name": "ipython",
    "version": 3
   },
   "file_extension": ".py",
   "mimetype": "text/x-python",
   "name": "python",
   "nbconvert_exporter": "python",
   "pygments_lexer": "ipython3",
   "version": "3.13.3"
  }
 },
 "nbformat": 4,
 "nbformat_minor": 4
}
